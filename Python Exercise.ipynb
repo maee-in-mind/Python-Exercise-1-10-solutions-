{
 "cells": [
  {
   "cell_type": "code",
   "execution_count": 5,
   "metadata": {},
   "outputs": [
    {
     "name": "stdout",
     "output_type": "stream",
     "text": [
      "enter your nameNit\n",
      "enter age20\n",
      "Dear Nit you will became 100 years old after 80 years\n"
     ]
    }
   ],
   "source": [
    "#Exercise 1\n",
    "#Create a program that asks the user to enter their\n",
    "#name and their age.\n",
    "#Print out a message addressed to them that tells \n",
    "#them the year that they will turn 100 years old.\n",
    "name=input(\"enter your name\")\n",
    "age=int(input(\"enter age\"))\n",
    "\n",
    "aged=100-age\n",
    "print(\"Dear {} you will became 100 years old after {} years\".format(name,aged))\n"
   ]
  },
  {
   "cell_type": "code",
   "execution_count": 8,
   "metadata": {
    "scrolled": true
   },
   "outputs": [
    {
     "name": "stdout",
     "output_type": "stream",
     "text": [
      "enter number20\n",
      "even \n",
      "\n",
      "number is divisible by 4 aswell\n",
      "enter number4\n",
      "enter check number2\n",
      "Check is evenly divided number\n"
     ]
    }
   ],
   "source": [
    "#Exercise 2\n",
    "#If the number is a multiple of 4, \n",
    "#print out a different message.\n",
    "num=int(input(\"enter number\"))\n",
    "if (num%2==0):\n",
    "    print(\"even \\n\")\n",
    "    if(num%4==0):\n",
    "        print(\"number is divisible by 4 aswell\")\n",
    "    else:\n",
    "        print(\"not divisible by 4\")\n",
    "else:\n",
    "    print(\"odd\")\n",
    "#Ask the user for two numbers: \n",
    "#one number to check (call it num) \n",
    "#and one number to divide by (check). \n",
    "#If check divides evenly into num,\n",
    "#tell that to the user.\n",
    "#If not, print a different appropriate message.\n",
    "num1=int(input(\"enter number\"))\n",
    "check=int(input(\"enter check number\"))\n",
    "sol=int(num1/check)\n",
    "if (sol%2==0):\n",
    "    print(\"Check is evenly divided number\")\n",
    "else:\n",
    "    print(\"Check not dividing number evenly\")\n",
    "    "
   ]
  },
  {
   "cell_type": "code",
   "execution_count": 1,
   "metadata": {},
   "outputs": [
    {
     "name": "stdout",
     "output_type": "stream",
     "text": [
      "[1, 1, 2, 3, 5]\n",
      "enter a threshold value4\n",
      "[1, 1, 2, 3]\n"
     ]
    }
   ],
   "source": [
    "\n",
    "#Exercise 3 \n",
    "#Instead of printing the elements one by one, \n",
    "#make a new list that has all the elements less\n",
    "#than 5 from this list in it and print out this new list.\n",
    "#Write this in one line of Python.\n",
    "a = [1, 1, 2, 3, 5, 8, 13, 21, 34, 55, 89]\n",
    "b=[]\n",
    "for i in range(len(a)):\n",
    "    if (a[i]<=5):\n",
    "        b.append(a[i])\n",
    "print(b)\n",
    "#Ask the user for a number and return a list that contains\n",
    "#only elements from the original list a that are smaller \n",
    "#than that number given by the user.\n",
    "\n",
    "c = [1, 1, 2, 3, 5, 8, 13, 21, 34, 55, 89]\n",
    "d=[]\n",
    "e=int(input(\"enter a threshold value\"))\n",
    "for i in range(len(c)):\n",
    "    if (c[i]<=e):\n",
    "        d.append(c[i])\n",
    "print(d)"
   ]
  },
  {
   "cell_type": "code",
   "execution_count": 2,
   "metadata": {},
   "outputs": [
    {
     "name": "stdout",
     "output_type": "stream",
     "text": [
      "range(2, 21)\n",
      "enter divisor4\n",
      "[4, 8, 12, 16, 20]\n"
     ]
    }
   ],
   "source": [
    "#Exercise 4 \n",
    "#Create a program that asks the user\n",
    "#for a number and then prints out a list\n",
    "#of all the divisors of that number.\n",
    "\n",
    "x = range(2, 21)\n",
    "print(x)\n",
    "y=int(input(\"enter divisor\"))\n",
    "z=[]\n",
    "\n",
    "for i in range(len(x)):\n",
    "    if(x[i]%y==0):\n",
    "        z.append(x[i])\n",
    "print(z)\n",
    "    "
   ]
  },
  {
   "cell_type": "code",
   "execution_count": 35,
   "metadata": {},
   "outputs": [
    {
     "name": "stdout",
     "output_type": "stream",
     "text": [
      "[1, 2, 3, 5, 8, 13]\n"
     ]
    }
   ],
   "source": [
    "#Exercise 5\n",
    "list1 = [1, 1, 2, 3, 5, 8, 13, 21, 34, 55, 89]\n",
    "list2 = [1, 2, 3, 4, 5, 6, 7, 8, 9, 10, 11, 12, 13]\n",
    "list3=[]\n",
    "for i in range(len(list2)):\n",
    "    if (list2[i] in list1):\n",
    "        list3.append(list2[i])\n",
    "        \n",
    "print(list3)\n"
   ]
  },
  {
   "cell_type": "code",
   "execution_count": 2,
   "metadata": {},
   "outputs": [
    {
     "name": "stdout",
     "output_type": "stream",
     "text": [
      "Enter any Word: Wiw\n",
      "the word is palindrome\n"
     ]
    }
   ],
   "source": [
    "#Exercise 6 \n",
    "#Ask the user for a string and print out whether\n",
    "#this string is a palindrome or not. (A palindrome is a \n",
    "#string that reads the same forwards and backwards.)\n",
    "WORD = str(input(\"Enter any Word: \").lower())\n",
    "is_palindrome = WORD[::-1]\n",
    "if WORD== is_palindrome:\n",
    "    print(\"the word is palindrome\")\n",
    "else:\n",
    "    print(\"word isn't Palindrome\")"
   ]
  },
  {
   "cell_type": "code",
   "execution_count": 4,
   "metadata": {
    "scrolled": true
   },
   "outputs": [
    {
     "name": "stdout",
     "output_type": "stream",
     "text": [
      "[4, 16, 36, 64, 100]\n"
     ]
    }
   ],
   "source": [
    "#Exercise 7\n",
    "list1 = [1, 4, 9, 16, 25, 36, 49, 64, 81, 100]\n",
    "even=[i for i in list1 if i%2==0 ]\n",
    "print(even)"
   ]
  },
  {
   "cell_type": "code",
   "execution_count": 2,
   "metadata": {
    "scrolled": false
   },
   "outputs": [
    {
     "name": "stdout",
     "output_type": "stream",
     "text": [
      "Player 1: enter your choicerock\n",
      "Player 2: enter your choicepaper\n",
      "Paper wins!\n",
      "do you want to continue(y/n)y\n",
      "Player 1: enter your choicepaper\n",
      "Player 2: enter your choicescissors\n",
      "Scissors win!\n",
      "do you want to continue(y/n)N\n"
     ]
    }
   ],
   "source": [
    "#Exercise 8 \n",
    "#Make a two-player Rock-Paper-Scissors game. \n",
    "#(Hint: Ask for player plays (using input),\n",
    "#compare them, print out a message of congratulations\n",
    "#to the winner, and ask if the players want to start a new game)\n",
    "'''Remember the rules:\n",
    "\n",
    "Rock beats scissors\n",
    "Scissors beats paper\n",
    "Paper beats rock '''\n",
    "\n",
    "ch=\"y\"\n",
    "while(ch ==\"y\"):\n",
    "    u1=input(\"Player 1: enter your choice\")\n",
    "    u2=input(\"Player 2: enter your choice\")\n",
    "    if u1 == u2:\n",
    "        print(\"It's a tie!\")\n",
    "    elif u1 == 'rock':\n",
    "        if u2 == 'scissors':\n",
    "            print(\"Rock wins!\")\n",
    "        else:\n",
    "            print(\"Paper wins!\")\n",
    "    elif u1 == 'scissors':\n",
    "        if u2 == 'paper':\n",
    "            print(\"Scissors win!\")\n",
    "        else:\n",
    "            print(\"Rock wins!\")\n",
    "    elif u1 == 'paper':\n",
    "        if u2 == 'rock':\n",
    "            print(\"Paper wins!\")\n",
    "        else:\n",
    "            print(\"Scissors win!\")\n",
    "    ch=input(\"do you want to continue(y/n)\")"
   ]
  },
  {
   "cell_type": "code",
   "execution_count": 4,
   "metadata": {},
   "outputs": [
    {
     "name": "stdout",
     "output_type": "stream",
     "text": [
      "enter your guess2\n",
      "your guess is too small\n",
      "do you want to try again ? (yes/exit)yes\n",
      "enter your guess4\n",
      "your guess is too small\n",
      "do you want to try again ? (yes/exit)exit\n"
     ]
    }
   ],
   "source": [
    "#Exercise 9 \n",
    "#Generate a random number between 1 and 9 \n",
    "#(including 1 and 9). Ask the user to guess the number, \n",
    "#then tell them whether they guessed too low, too high, \n",
    "#or exactly right.\n",
    "\n",
    "import random\n",
    "rand_num=random.randint(0,10)\n",
    "ch=\"yes\"\n",
    "while (ch!=\"exit\"):\n",
    "    guess=int(input(\"enter your guess\"))\n",
    "    if(guess==rand_num):\n",
    "        print(\"correct guess\")\n",
    "    elif(guess<rand_num):\n",
    "        print(\"your guess is too small\")\n",
    "    elif(guess>rand_num):\n",
    "        print(\"your guess is too big\")\n",
    "    ch=input(\"do you want to try again ? (yes/exit)\")\n"
   ]
  },
  {
   "cell_type": "code",
   "execution_count": 14,
   "metadata": {},
   "outputs": [
    {
     "name": "stdout",
     "output_type": "stream",
     "text": [
      "[1, 2, 3, 5, 8, 13]\n"
     ]
    }
   ],
   "source": [
    "#Exercise 10\n",
    "#write a program that returns a list that contains only the\n",
    "#elements that are common between the lists (without duplicates). \n",
    "#Make sure your program works on two lists of different sizes.\n",
    "#Write this in one line of Python using at least one list comprehension.\n",
    "a = [1, 2, 3, 5, 8, 13, 21, 34, 55, 89]\n",
    "b = [1, 2, 3, 4, 5, 6, 7, 8, 9, 10, 11, 12, 13]\n",
    "c=[j for i in a for j in b if i==j]\n",
    "print(c)"
   ]
  },
  {
   "cell_type": "code",
   "execution_count": null,
   "metadata": {},
   "outputs": [],
   "source": []
  }
 ],
 "metadata": {
  "kernelspec": {
   "display_name": "Python 3",
   "language": "python",
   "name": "python3"
  },
  "language_info": {
   "codemirror_mode": {
    "name": "ipython",
    "version": 3
   },
   "file_extension": ".py",
   "mimetype": "text/x-python",
   "name": "python",
   "nbconvert_exporter": "python",
   "pygments_lexer": "ipython3",
   "version": "3.7.2"
  }
 },
 "nbformat": 4,
 "nbformat_minor": 2
}
